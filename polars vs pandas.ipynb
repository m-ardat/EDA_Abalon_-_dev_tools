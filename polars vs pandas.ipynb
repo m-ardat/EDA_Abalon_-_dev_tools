{
 "cells": [
  {
   "cell_type": "markdown",
   "id": "4350d020-e304-432c-aa43-ad2db376a79f",
   "metadata": {},
   "source": [
    "------------------\n",
    "# Сравнение polars и pandas"
   ]
  },
  {
   "cell_type": "markdown",
   "id": "417df6f8-4953-451e-b0b7-7a785734d3ae",
   "metadata": {},
   "source": [
    "![](data:image/jpeg;base64,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)"
   ]
  },
  {
   "cell_type": "markdown",
   "id": "a2d128ec-d24a-40cf-8aad-16994a1b075d",
   "metadata": {},
   "source": [
    "**Импорт библиотек**"
   ]
  },
  {
   "cell_type": "code",
   "execution_count": 2,
   "id": "ece7ec76-41f0-4e8c-870f-84325fcf31f2",
   "metadata": {},
   "outputs": [],
   "source": [
    "import numpy as np\n",
    "import pandas as pd\n",
    "import polars as pl\n",
    "import matplotlib.pyplot as plt\n",
    "import seaborn as sns"
   ]
  },
  {
   "cell_type": "markdown",
   "id": "cd5108c1-bada-4cd8-b5db-e623704bfef6",
   "metadata": {},
   "source": [
    "Увеличим датасет до 1 миллиона наблюдений за счет его дубликатов."
   ]
  },
  {
   "cell_type": "code",
   "execution_count": 3,
   "id": "a8c61569-deca-4f60-b469-046813e8ccdc",
   "metadata": {},
   "outputs": [],
   "source": [
    "df = pd.read_csv('abalone.csv')"
   ]
  },
  {
   "cell_type": "code",
   "execution_count": 4,
   "id": "e0819ea3-f6ba-4c2a-9a72-b5d475f617e8",
   "metadata": {},
   "outputs": [],
   "source": [
    "df_big = df.copy()\n",
    "\n",
    "for _ in range(300):\n",
    "  df_big = pd.concat([df_big, df])\n",
    "\n",
    "df_big.to_csv('abalone_big.csv', index=False)"
   ]
  },
  {
   "cell_type": "markdown",
   "id": "5209ded0-0ab4-4061-bf2d-51332c5870d1",
   "metadata": {},
   "source": [
    "**Загрузка данных**"
   ]
  },
  {
   "cell_type": "code",
   "execution_count": 5,
   "id": "232db8f9-7533-4400-89ae-fe7de560aa43",
   "metadata": {},
   "outputs": [
    {
     "name": "stdout",
     "output_type": "stream",
     "text": [
      "CPU times: total: 672 ms\n",
      "Wall time: 226 ms\n"
     ]
    }
   ],
   "source": [
    "%%time\n",
    "df_pl = pl.read_csv('abalone_big.csv')"
   ]
  },
  {
   "cell_type": "code",
   "execution_count": 6,
   "id": "fa18ca4c-88cd-4dcc-92d9-669868fdecdc",
   "metadata": {},
   "outputs": [
    {
     "name": "stdout",
     "output_type": "stream",
     "text": [
      "CPU times: total: 734 ms\n",
      "Wall time: 704 ms\n"
     ]
    }
   ],
   "source": [
    "%%time\n",
    "df_pd = pd.read_csv('abalone_big.csv')"
   ]
  },
  {
   "cell_type": "markdown",
   "id": "e0fcfe13-5b41-4611-b669-ce4c92f43d4b",
   "metadata": {},
   "source": [
    "*polars справился быстрее: 1-0*"
   ]
  },
  {
   "cell_type": "markdown",
   "id": "635b3ded-3380-4bce-a709-dade88784009",
   "metadata": {},
   "source": [
    "**Фильтрация данных**"
   ]
  },
  {
   "cell_type": "code",
   "execution_count": 7,
   "id": "754fb056-5ed3-4889-aaaf-0fd68dc432cf",
   "metadata": {},
   "outputs": [
    {
     "name": "stdout",
     "output_type": "stream",
     "text": [
      "CPU times: total: 46.9 ms\n",
      "Wall time: 16.1 ms\n"
     ]
    }
   ],
   "source": [
    "%%time\n",
    "pl_res = df_pl.filter((pl.col('Sex') == 'M') & (pl.col('Diameter') > 0.265))"
   ]
  },
  {
   "cell_type": "code",
   "execution_count": 8,
   "id": "0a5943a4-dbb3-4c86-93e0-456db9450eb5",
   "metadata": {},
   "outputs": [
    {
     "name": "stdout",
     "output_type": "stream",
     "text": [
      "CPU times: total: 93.8 ms\n",
      "Wall time: 97.4 ms\n"
     ]
    }
   ],
   "source": [
    "%%time\n",
    "pd_res = df_pd[(df_pd['Sex'] == 'M') & (df_pd['Diameter'] > 0.265)]"
   ]
  },
  {
   "cell_type": "markdown",
   "id": "a814b45a-b5ba-4288-8454-16612495209a",
   "metadata": {},
   "source": [
    "*polars справился быстрее: 2-0*"
   ]
  },
  {
   "cell_type": "markdown",
   "id": "3b6ae9d4-0311-4782-83f3-20eac6a126d3",
   "metadata": {},
   "source": [
    "**Агрегация данных**"
   ]
  },
  {
   "cell_type": "code",
   "execution_count": 9,
   "id": "fa140c64-63b9-45f2-8ea0-f8a3981b9aad",
   "metadata": {},
   "outputs": [
    {
     "name": "stdout",
     "output_type": "stream",
     "text": [
      "CPU times: total: 109 ms\n",
      "Wall time: 29.9 ms\n"
     ]
    },
    {
     "name": "stderr",
     "output_type": "stream",
     "text": [
      "<timed eval>:1: DeprecationWarning: `groupby` is deprecated. It has been renamed to `group_by`.\n"
     ]
    },
    {
     "data": {
      "text/html": [
       "<div><style>\n",
       ".dataframe > thead > tr,\n",
       ".dataframe > tbody > tr {\n",
       "  text-align: right;\n",
       "  white-space: pre-wrap;\n",
       "}\n",
       "</style>\n",
       "<small>shape: (4, 2)</small><table border=\"1\" class=\"dataframe\"><thead><tr><th>Sex</th><th>Whole weight</th></tr><tr><td>str</td><td>f64</td></tr></thead><tbody><tr><td>&quot;I&quot;</td><td>0.430636</td></tr><tr><td>&quot;M&quot;</td><td>0.982599</td></tr><tr><td>&quot;f&quot;</td><td>0.886241</td></tr><tr><td>&quot;F&quot;</td><td>1.043791</td></tr></tbody></table></div>"
      ],
      "text/plain": [
       "shape: (4, 2)\n",
       "┌─────┬──────────────┐\n",
       "│ Sex ┆ Whole weight │\n",
       "│ --- ┆ ---          │\n",
       "│ str ┆ f64          │\n",
       "╞═════╪══════════════╡\n",
       "│ I   ┆ 0.430636     │\n",
       "│ M   ┆ 0.982599     │\n",
       "│ f   ┆ 0.886241     │\n",
       "│ F   ┆ 1.043791     │\n",
       "└─────┴──────────────┘"
      ]
     },
     "execution_count": 9,
     "metadata": {},
     "output_type": "execute_result"
    }
   ],
   "source": [
    "%%time\n",
    "df_pl.groupby(by='Sex').agg(pl.col('Whole weight').mean())"
   ]
  },
  {
   "cell_type": "code",
   "execution_count": 10,
   "id": "05c04187-669f-4e12-9222-ac2f19275750",
   "metadata": {},
   "outputs": [
    {
     "name": "stdout",
     "output_type": "stream",
     "text": [
      "CPU times: total: 78.1 ms\n",
      "Wall time: 69 ms\n"
     ]
    },
    {
     "data": {
      "text/html": [
       "<div>\n",
       "<style scoped>\n",
       "    .dataframe tbody tr th:only-of-type {\n",
       "        vertical-align: middle;\n",
       "    }\n",
       "\n",
       "    .dataframe tbody tr th {\n",
       "        vertical-align: top;\n",
       "    }\n",
       "\n",
       "    .dataframe thead th {\n",
       "        text-align: right;\n",
       "    }\n",
       "</style>\n",
       "<table border=\"1\" class=\"dataframe\">\n",
       "  <thead>\n",
       "    <tr style=\"text-align: right;\">\n",
       "      <th></th>\n",
       "      <th>Whole weight</th>\n",
       "    </tr>\n",
       "    <tr>\n",
       "      <th>Sex</th>\n",
       "      <th></th>\n",
       "    </tr>\n",
       "  </thead>\n",
       "  <tbody>\n",
       "    <tr>\n",
       "      <th>F</th>\n",
       "      <td>1.043791</td>\n",
       "    </tr>\n",
       "    <tr>\n",
       "      <th>I</th>\n",
       "      <td>0.430636</td>\n",
       "    </tr>\n",
       "    <tr>\n",
       "      <th>M</th>\n",
       "      <td>0.982599</td>\n",
       "    </tr>\n",
       "    <tr>\n",
       "      <th>f</th>\n",
       "      <td>0.886241</td>\n",
       "    </tr>\n",
       "  </tbody>\n",
       "</table>\n",
       "</div>"
      ],
      "text/plain": [
       "     Whole weight\n",
       "Sex              \n",
       "F        1.043791\n",
       "I        0.430636\n",
       "M        0.982599\n",
       "f        0.886241"
      ]
     },
     "execution_count": 10,
     "metadata": {},
     "output_type": "execute_result"
    }
   ],
   "source": [
    "%%time\n",
    "df_pd.groupby(by='Sex').agg({'Whole weight' : 'mean'})"
   ]
  },
  {
   "cell_type": "markdown",
   "id": "15e9551c-268f-4656-b320-a56e66309c83",
   "metadata": {},
   "source": [
    "*нельзя сказать, что polars справился быстрее - ничья: 2-0*"
   ]
  },
  {
   "cell_type": "markdown",
   "id": "07ee28da-852c-4227-b72b-204a03a53de8",
   "metadata": {},
   "source": [
    "На дасете размером (1257277, 9) polars показал показатели лучше, чем pandas: в загрузке данных и в фильтрации, по агрегации данных результаты сопоставимы."
   ]
  }
 ],
 "metadata": {
  "kernelspec": {
   "display_name": "Python 3 (ipykernel)",
   "language": "python",
   "name": "python3"
  },
  "language_info": {
   "codemirror_mode": {
    "name": "ipython",
    "version": 3
   },
   "file_extension": ".py",
   "mimetype": "text/x-python",
   "name": "python",
   "nbconvert_exporter": "python",
   "pygments_lexer": "ipython3",
   "version": "3.11.7"
  }
 },
 "nbformat": 4,
 "nbformat_minor": 5
}
